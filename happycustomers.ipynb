{
  "nbformat": 4,
  "nbformat_minor": 0,
  "metadata": {
    "colab": {
      "name": "happycustomers.ipynb",
      "provenance": []
    },
    "kernelspec": {
      "name": "python3",
      "display_name": "Python 3"
    },
    "language_info": {
      "name": "python"
    },
    "accelerator": "GPU"
  },
  "cells": [
    {
      "cell_type": "code",
      "metadata": {
        "id": "Ih3DR8BZBIBo"
      },
      "source": [
        "import csv\n",
        "import pandas as pd \n",
        "import numpy as np\n",
        "import matplotlib.pyplot as plt\n",
        "\n"
      ],
      "execution_count": 1,
      "outputs": []
    },
    {
      "cell_type": "code",
      "metadata": {
        "colab": {
          "base_uri": "https://localhost:8080/",
          "height": 204
        },
        "id": "R7kb7YwcBQuC",
        "outputId": "cc3c45db-b511-400b-d46b-cfd021323b8b"
      },
      "source": [
        "df=pd.read_csv(\"/content/drive/MyDrive/dataset/ACME-HappinessSurvey2020.csv\")\n",
        "df.head()"
      ],
      "execution_count": 5,
      "outputs": [
        {
          "output_type": "execute_result",
          "data": {
            "text/html": [
              "<div>\n",
              "<style scoped>\n",
              "    .dataframe tbody tr th:only-of-type {\n",
              "        vertical-align: middle;\n",
              "    }\n",
              "\n",
              "    .dataframe tbody tr th {\n",
              "        vertical-align: top;\n",
              "    }\n",
              "\n",
              "    .dataframe thead th {\n",
              "        text-align: right;\n",
              "    }\n",
              "</style>\n",
              "<table border=\"1\" class=\"dataframe\">\n",
              "  <thead>\n",
              "    <tr style=\"text-align: right;\">\n",
              "      <th></th>\n",
              "      <th>Y</th>\n",
              "      <th>X1</th>\n",
              "      <th>X2</th>\n",
              "      <th>X3</th>\n",
              "      <th>X4</th>\n",
              "      <th>X5</th>\n",
              "      <th>X6</th>\n",
              "    </tr>\n",
              "  </thead>\n",
              "  <tbody>\n",
              "    <tr>\n",
              "      <th>0</th>\n",
              "      <td>0</td>\n",
              "      <td>3</td>\n",
              "      <td>3</td>\n",
              "      <td>3</td>\n",
              "      <td>4</td>\n",
              "      <td>2</td>\n",
              "      <td>4</td>\n",
              "    </tr>\n",
              "    <tr>\n",
              "      <th>1</th>\n",
              "      <td>0</td>\n",
              "      <td>3</td>\n",
              "      <td>2</td>\n",
              "      <td>3</td>\n",
              "      <td>5</td>\n",
              "      <td>4</td>\n",
              "      <td>3</td>\n",
              "    </tr>\n",
              "    <tr>\n",
              "      <th>2</th>\n",
              "      <td>1</td>\n",
              "      <td>5</td>\n",
              "      <td>3</td>\n",
              "      <td>3</td>\n",
              "      <td>3</td>\n",
              "      <td>3</td>\n",
              "      <td>5</td>\n",
              "    </tr>\n",
              "    <tr>\n",
              "      <th>3</th>\n",
              "      <td>0</td>\n",
              "      <td>5</td>\n",
              "      <td>4</td>\n",
              "      <td>3</td>\n",
              "      <td>3</td>\n",
              "      <td>3</td>\n",
              "      <td>5</td>\n",
              "    </tr>\n",
              "    <tr>\n",
              "      <th>4</th>\n",
              "      <td>0</td>\n",
              "      <td>5</td>\n",
              "      <td>4</td>\n",
              "      <td>3</td>\n",
              "      <td>3</td>\n",
              "      <td>3</td>\n",
              "      <td>5</td>\n",
              "    </tr>\n",
              "  </tbody>\n",
              "</table>\n",
              "</div>"
            ],
            "text/plain": [
              "   Y  X1  X2  X3  X4  X5  X6\n",
              "0  0   3   3   3   4   2   4\n",
              "1  0   3   2   3   5   4   3\n",
              "2  1   5   3   3   3   3   5\n",
              "3  0   5   4   3   3   3   5\n",
              "4  0   5   4   3   3   3   5"
            ]
          },
          "metadata": {},
          "execution_count": 5
        }
      ]
    },
    {
      "cell_type": "code",
      "metadata": {
        "colab": {
          "base_uri": "https://localhost:8080/"
        },
        "id": "AW8N4vJcDCJU",
        "outputId": "7e2cb99e-2d1c-4486-c46b-f47fa14962d1"
      },
      "source": [
        "y=df['Y'].values\n",
        "x=df.iloc[:,1:]\n",
        "print(x)"
      ],
      "execution_count": 10,
      "outputs": [
        {
          "output_type": "stream",
          "name": "stdout",
          "text": [
            "     X1  X2  X3  X4  X5  X6\n",
            "0     3   3   3   4   2   4\n",
            "1     3   2   3   5   4   3\n",
            "2     5   3   3   3   3   5\n",
            "3     5   4   3   3   3   5\n",
            "4     5   4   3   3   3   5\n",
            "..   ..  ..  ..  ..  ..  ..\n",
            "121   5   2   3   4   4   3\n",
            "122   5   2   3   4   2   5\n",
            "123   5   3   3   4   4   5\n",
            "124   4   3   3   4   4   5\n",
            "125   5   3   2   5   5   5\n",
            "\n",
            "[126 rows x 6 columns]\n"
          ]
        }
      ]
    },
    {
      "cell_type": "code",
      "metadata": {
        "id": "SUHEN1f5Ecom"
      },
      "source": [
        "from sklearn.model_selection import train_test_split\n",
        "x_train, x_test, y_train, y_test=train_test_split(x,y, test_size=0.20)"
      ],
      "execution_count": 156,
      "outputs": []
    },
    {
      "cell_type": "code",
      "metadata": {
        "id": "_JpjIcCaEigM"
      },
      "source": [
        "\n",
        "from sklearn.preprocessing import StandardScaler\n",
        "scaler=StandardScaler()\n",
        "scaler.fit(x_train)\n",
        "x_train=scaler.transform(x_train)\n",
        "x_test=scaler.transform(x_test)\n"
      ],
      "execution_count": 157,
      "outputs": []
    },
    {
      "cell_type": "code",
      "metadata": {
        "id": "G0Tpx68uKQIl"
      },
      "source": [
        "from sklearn.ensemble import RandomForestClassifier\n",
        "clf=RandomForestClassifier(max_depth=12,  n_estimators=400, random_state=0 )\n",
        "clf.fit(x_train,y_train)\n",
        "y_pred=clf.predict(x_test)"
      ],
      "execution_count": 187,
      "outputs": []
    },
    {
      "cell_type": "code",
      "metadata": {
        "colab": {
          "base_uri": "https://localhost:8080/"
        },
        "id": "nSl9bYj8Emlt",
        "outputId": "388f9f89-f584-41b1-afc0-98a0e9f0d29c"
      },
      "source": [
        "from sklearn.metrics import classification_report, confusion_matrix\n",
        "cmatrix=confusion_matrix(y_test,y_pred)\n",
        "print(cmatrix)\n",
        "print(classification_report(y_test,y_pred))\n",
        "toplam=sum(sum(cmatrix))\n",
        "accuracy=(cmatrix[0,0]+cmatrix[1,1])/toplam\n",
        "print('accuracy',accuracy)\n",
        "sensitivity=cmatrix[0,0]/(cmatrix[0,0]+cmatrix[0,1])\n",
        "print('sensitivty:',sensitivity)\n",
        "specificty=cmatrix[1,1]/(cmatrix[1,0]+cmatrix[1,1])\n",
        "print('specificty:',specificty)\n"
      ],
      "execution_count": 188,
      "outputs": [
        {
          "output_type": "stream",
          "name": "stdout",
          "text": [
            "[[ 6  3]\n",
            " [ 4 13]]\n",
            "              precision    recall  f1-score   support\n",
            "\n",
            "           0       0.60      0.67      0.63         9\n",
            "           1       0.81      0.76      0.79        17\n",
            "\n",
            "    accuracy                           0.73        26\n",
            "   macro avg       0.71      0.72      0.71        26\n",
            "weighted avg       0.74      0.73      0.73        26\n",
            "\n",
            "accuracy 0.7307692307692307\n",
            "sensitivty: 0.6666666666666666\n",
            "specificty: 0.7647058823529411\n"
          ]
        }
      ]
    }
  ]
}